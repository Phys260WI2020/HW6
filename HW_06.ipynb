{
 "cells": [
  {
   "cell_type": "markdown",
   "metadata": {},
   "source": [
    "# Computer Homework 6: More on Numerical solutions to $RC$ circuits\n",
    "\n",
    "This assignment is first, largely an exercise in markdown, and second, an extension of what you did for the previous assignment.  The exercise in markdown is important because good code is well documented.  Markdown in a jupyter notebook is *one* such option for good documentation.  It should be easy to read and see what is going on without looking directly at code.  The extension here is that you have a more complex circuit, such that you will need to do some additional arithmetic steps to determine the form of the time constant.  \n",
    "\n",
    "## Reminder from last time.... \n",
    "Most simple circuits can be solved using a variety of techniques.  As circuits become more complicated, or as the signals the circuits are processing become more complicated, finding an exact solution can become more difficult.  \n",
    "\n",
    "We learned in class that\n",
    "\\begin{equation}\n",
    "I = \\frac {dQ} {dt}\n",
    "\\end{equation}\n",
    "\n",
    "This simple definition implies that many circuits can be expressed in the language of differential equations. The purpose of this assignment is to learn how to solve these equations numerically. \n",
    "\n",
    "Consider a first-order equations of the form:\n",
    "\\begin{equation}\n",
    "\\frac {dx} {dt} = f(x,t).\n",
    "\\end{equation}\n",
    "\n",
    "The solution to this equation is a function $x(t)$ whose first derivative is $f$.\n",
    "To find the solution to such an equation, we also need boundary conditions, or starting points.  Suppose that we have a first-order differential equation and know the value of $x$ for some specific time $t$, that is we know $x(t)$.  The we can write the value of x some short time later as\n",
    "\\begin{equation}\n",
    "x(t+h) = x(t) + h \\frac {dx} {dt} + \\frac 1 2 h^2 \\frac {d^2x} {dt^2} + ...\n",
    "\\end{equation}\n",
    "\n",
    "\\begin{equation}\n",
    "x(t+h) = x(t) + h f(x,t) + h^2 \\frac {df(x,t)} {dt} + ...\n",
    "\\end{equation}\n",
    "\n",
    "If $h$ is small then $h^2$ is really small, and we can ignore it, and all higher terms of $h^n$.  This technique is called Euler's method.\n",
    "\n",
    "Using this, if we know the value of $x$ at some time $t$ we can find the value at some short time later.  We can then repeat this process and understand how $x$ changes over time. The set of $x$ values at a discrete set of $t$ values is the numerical solution to our differential equation.\n",
    "\n",
    "In the last assignment we used this method to find the current, voltages and charges in two simpler circuits, discharging and charging a capacitor.  We will still work with circuits that we can solve analytically so we can verify the numerical solution. In this assignment, we will consider a circuit that is a little more difficult.\n"
   ]
  },
  {
   "cell_type": "markdown",
   "metadata": {},
   "source": [
    "## Import the usual libraries"
   ]
  },
  {
   "cell_type": "code",
   "execution_count": 2,
   "metadata": {},
   "outputs": [],
   "source": [
    "import numpy as np                         # numpy is a library that inclues most of the numerical funciton you will need\n",
    "import matplotlib.pyplot as plt            # this is the library we use to plot"
   ]
  },
  {
   "cell_type": "markdown",
   "metadata": {},
   "source": [
    "\n",
    "# Computer Homework 6: A more complex circuit\n",
    "### This assignment is due Thursday 2/20 at 12pm."
   ]
  },
  {
   "cell_type": "markdown",
   "metadata": {},
   "source": [
    "In the problems above, you considered a simple $RC$ circuit. Now consider something a little more complicated:\n",
    "<img src=\"http://www-personal.umich.edu/~gerdes/img/RC_1.jpg\" height=\"400\" width=\"400\">\n",
    "\n",
    "You've solved this circuit analytically as a written homework problem, and determined the time constant for charging the capacitor. Your task now is to model this circuit numerically using the same techniques as you employed for the simple $RC$ circuit above. Assume the values of the components are all known (we'll specify exact values soon), and that the capacitor is uncharged at $t=0$. Your goal is to find the charge $Q$ on the capacitor, and the three currents $I_1$, $I_2$, and $I_3$, as a function of time.  "
   ]
  },
  {
   "cell_type": "markdown",
   "metadata": {},
   "source": [
    "<b>Part 1 (5 points):</b> Use Kirchhoff's rules to write down four linearly independent equations involving the three unknowns $Q$, $I_1$, $I_2$, and $I_3$. You should already have done this on your written homework. Enter them in LaTeX format by modifying the cell below. (There are LaTeX tips in the comments in the next cell.)"
   ]
  },
  {
   "cell_type": "markdown",
   "metadata": {},
   "source": [
    "Example equations in LaTeX:\n",
    "\n",
    "\\begin{eqnarray}\n",
    "     a + b & = & c   \\\\     % this is a comment. The \\\\ tells LaTeX to start a new line. \n",
    "     x + y & = & z   \\\\\n",
    "     \\frac{1}{2} + \\frac{1}{3} & = & \\frac{5}{6} \\\\ % This is how you enter fractions. \n",
    "     E & = & mc^2  % \n",
    "\\end{eqnarray} \n",
    "\n",
    "Also, in-line math looks like this: $P_{diss} = I^2 R$"
   ]
  },
  {
   "cell_type": "markdown",
   "metadata": {},
   "source": [
    "*Write your equations in this markdown cell.  For further reference, here is a [markdown cheatsheet](https://github.com/adam-p/markdown-here/wiki/Markdown-Cheatsheet)*"
   ]
  },
  {
   "cell_type": "markdown",
   "metadata": {},
   "source": [
    "<b>Part 2 (10 points):</b> In markdown below, define and analytically calculate your initial conditions as a function of $V$, $R_1$, $R_2$, and $R_3$. You are assuming that the capacitor is initially uncharged, and the battery\n",
    "is connected at $t=0$.  **Your initial conditions should consist of the initial values of $I_1$, $I_2$, $I_3$, and $Q$.**"
   ]
  },
  {
   "cell_type": "markdown",
   "metadata": {},
   "source": [
    "*Enter your initial conditions here in markdown.  Hint: You can look at the contents of other markdown cells to see how to get markdown to nicely render equations.  Or, refer to the cheatsheet link above if you want to experiment with something fancier.*"
   ]
  },
  {
   "cell_type": "markdown",
   "metadata": {},
   "source": [
    "<b>Step 3 (15 points):</b> Solve the circuit. You will need to loop over timesteps, similar to what you did for the simple circuit in the previous assignment (look up the previous assignment!), and update the values of each unknown quantity at each step according to the equations you wrote down in Step 1. \n",
    "\n",
    "To do this, you'll need to choose some specific values for the components, so let's pick:\n",
    "* $V = 10$ V\n",
    "* $R_1 = 10~\\Omega$\n",
    "* $R_2 = 20~\\Omega$\n",
    "* $R_3 = 15~\\Omega$\n",
    "* $C = 1.0~\\mu$F\n",
    "\n",
    "Full credit for making the following plots:\n",
    "\n",
    "(1) $I_1$ vs. time, $I_2$ vs. time, and $I_3$ vs. time\n",
    "\n",
    "(2) $V_{\\mathrm{Cap}}$ vs. time"
   ]
  },
  {
   "cell_type": "markdown",
   "metadata": {},
   "source": [
    "* First, you need to define your constants that set up the problem.  See above."
   ]
  },
  {
   "cell_type": "code",
   "execution_count": 1,
   "metadata": {},
   "outputs": [],
   "source": [
    "# Define constants here."
   ]
  },
  {
   "cell_type": "markdown",
   "metadata": {},
   "source": [
    "* Next, you need to set up constants that are relevant to your problem, such as your analytically calculated time constant for this circuit.    Based on the time constant, you can define your timesteps."
   ]
  },
  {
   "cell_type": "code",
   "execution_count": null,
   "metadata": {},
   "outputs": [],
   "source": [
    "# Define time constant and steps"
   ]
  },
  {
   "cell_type": "markdown",
   "metadata": {},
   "source": [
    "* Next, you will need to create placeholder arrays to fill with computed values at each timestep and the initial conditions based on your answer in **Part 1** .  Hint:  In the last homework you used np.zeros, and you will need $I_1(t)$, $I_2(t)$, $I_3(t)$, and $V_{Cap}(t)$ for the plots. "
   ]
  },
  {
   "cell_type": "code",
   "execution_count": 4,
   "metadata": {},
   "outputs": [],
   "source": [
    "#  Create your place holder arrays and initial conditions here."
   ]
  },
  {
   "cell_type": "markdown",
   "metadata": {},
   "source": [
    "* Now, you will need to loop over saving values and updating values for each iteration of the timestep"
   ]
  },
  {
   "cell_type": "code",
   "execution_count": 5,
   "metadata": {},
   "outputs": [],
   "source": [
    "#  Write your loop here"
   ]
  },
  {
   "cell_type": "markdown",
   "metadata": {},
   "source": [
    "* Make your plots below.  Try using zip to minimize lines of code and plot on three axes on the same figure for (1). "
   ]
  },
  {
   "cell_type": "code",
   "execution_count": 6,
   "metadata": {},
   "outputs": [],
   "source": [
    "# Time evolution of current here"
   ]
  },
  {
   "cell_type": "code",
   "execution_count": 7,
   "metadata": {},
   "outputs": [],
   "source": [
    "# Time evolution of the voltage across capacitor."
   ]
  },
  {
   "cell_type": "markdown",
   "metadata": {},
   "source": [
    "<b>Part 4 (10 points): Reflections and Sanity Checks</b>\n",
    "* First, calculate (analytically) the voltage on the capacitor after a long time. Does your numerical result agree with the calculation?  To what extent do they agree (one option is to show the percent error between the two)?"
   ]
  },
  {
   "cell_type": "markdown",
   "metadata": {},
   "source": [
    "Explanation/plots here"
   ]
  },
  {
   "cell_type": "markdown",
   "metadata": {},
   "source": [
    "* Next, pick any loop in the circuit. Is the loop rule satisfied at all times for this loop?  To what extent is the loop rule satisfied? You can plot the results of the loop rule, showing the summed voltage in the loop vs. time.  How might you this more accurate?\n"
   ]
  },
  {
   "cell_type": "markdown",
   "metadata": {},
   "source": [
    "Explanation/plots here"
   ]
  },
  {
   "cell_type": "markdown",
   "metadata": {},
   "source": [
    "* What is the time constant for charging the capacitor as calculated by your program? Does it agree with the result you obtained analytically?  To what extent?"
   ]
  },
  {
   "cell_type": "markdown",
   "metadata": {},
   "source": [
    "Explanation/plots here"
   ]
  },
  {
   "cell_type": "code",
   "execution_count": null,
   "metadata": {},
   "outputs": [],
   "source": []
  }
 ],
 "metadata": {
  "anaconda-cloud": {},
  "kernelspec": {
   "display_name": "Python 3",
   "language": "python",
   "name": "python3"
  },
  "language_info": {
   "codemirror_mode": {
    "name": "ipython",
    "version": 3
   },
   "file_extension": ".py",
   "mimetype": "text/x-python",
   "name": "python",
   "nbconvert_exporter": "python",
   "pygments_lexer": "ipython3",
   "version": "3.6.5"
  }
 },
 "nbformat": 4,
 "nbformat_minor": 1
}
