{
 "cells": [
  {
   "cell_type": "markdown",
   "metadata": {},
   "source": [
    "# Computer Homework 6: More on Numerical solutions to $RC$ circuits\n",
    "\n",
    "This assignment is first, largely an exercise in markdown, and second, an extension of what you did for the previous assignment.  The exercise in markdown is important because good code is well documented.  Markdown in a jupyter notebook is *one* such option for documentation.  It should be easy to read and see what is going on without looking directly at code.  The extension here is that you have a more complex circuit, such that you will need to do some additional arithmetic steps to determine the form of the time constant.  \n",
    "\n",
    "## Reminder from last time.... \n",
    "Most simple circuits can be solved using a variety of techniques.  As circuits become more complicated, or as the signals the circuits are processing become more complicated, finding an exact solution can become more difficult.  \n",
    "\n",
    "We learned in class that\n",
    "\\begin{equation}\n",
    "I = \\frac {dQ} {dt}\n",
    "\\end{equation}\n",
    "\n",
    "This simple definition implies that many circuits can be expressed in the language of differential equations. The purpose of this assignment is to learn how to solve these equations numerically. \n",
    "\n",
    "Consider a first-order equations of the form:\n",
    "\\begin{equation}\n",
    "\\frac {dx} {dt} = f(x,t).\n",
    "\\end{equation}\n",
    "\n",
    "The solution to this equation is a function $x(t)$ whose first derivative is $f$.\n",
    "To find the solution to such an equation, we also need boundary conditions, or starting points.  Suppose that we have a first-order differential equation and know the value of $x$ for some specific time $t$, that is we know $x(t)$.  The we can write the value of x some short time later as\n",
    "\\begin{equation}\n",
    "x(t+h) = x(t) + h \\frac {dx} {dt} + \\frac 1 2 h^2 \\frac {d^2x} {dt^2} + ...\n",
    "\\end{equation}\n",
    "\n",
    "\\begin{equation}\n",
    "x(t+h) = x(t) + h f(x,t) + h^2 \\frac {df(x,t)} {dt} + ...\n",
    "\\end{equation}\n",
    "\n",
    "If $h$ is small then $h^2$ is really small, and we can ignore it, and all higher terms of $h^n$.  This technique is called Euler's method.\n",
    "\n",
    "Using this, if we know the value of $x$ at some time $t$ we can find the value at some short time later.  We can then repeat this process and understand how $x$ changes over time. The set of $x$ values at a discrete set of $t$ values is the numerical solution to our differential equation.\n",
    "\n",
    "In the last assignment we used this method to find the current, voltages and charges in two simpler circuits, discharging and charging a capacitor.  We will still work with circuits that we can solve analytically so we can verify the numerical solution. In this assignment, we will consider a circuit that is a little more difficult.\n"
   ]
  },
  {
   "cell_type": "markdown",
   "metadata": {},
   "source": [
    "## Import the usual libraries"
   ]
  },
  {
   "cell_type": "code",
   "execution_count": 3,
   "metadata": {},
   "outputs": [],
   "source": [
    "import numpy as np                         # numpy is a library that inclues most of the numerical funciton you will need\n",
    "import matplotlib.pyplot as plt            # this is the library we use to plot"
   ]
  },
  {
   "cell_type": "markdown",
   "metadata": {},
   "source": [
    "\n",
    "# Computer Homework 6: A more complex circuit\n",
    "### This assignment is due Thursday 2/20 at 12pm."
   ]
  },
  {
   "cell_type": "markdown",
   "metadata": {},
   "source": [
    "In the problems above, you considered a simple $RC$ circuit. Now consider something a little more complicated:\n",
    "<img src=\"http://www-personal.umich.edu/~gerdes/img/RC_1.jpg\" height=\"400\" width=\"400\">\n",
    "\n",
    "You've seen this circuit in class, and one of your written homeworks is to determine the time constant, $\\tau_c$, for charging the capacitor (**see lecture slides for the answer**). Your task now is to model this circuit numerically using the same techniques as you employed for the simple $RC$ circuit above. Assume the values of the components are all known (we'll specify exact values soon), and that the capacitor is uncharged at $t=0$. Your goal is to find the charge $Q$ on the capacitor, and the three currents $I_1$, $I_2$, and $I_3$, as a function of time.  "
   ]
  },
  {
   "cell_type": "markdown",
   "metadata": {},
   "source": [
    "<b>Part 1 (5 points):</b> Use Kirchhoff's rules to write down four linearly independent equations involving the three unknowns $Q$, $I_1$, $I_2$, and $I_3$. You should already have done this on your written homework. Enter them in LaTeX format by modifying the cell below. (There are LaTeX tips in the comments in the next cell.)"
   ]
  },
  {
   "cell_type": "markdown",
   "metadata": {},
   "source": [
    "Example equations in LaTeX:\n",
    "\n",
    "\\begin{eqnarray}\n",
    "     a + b & = & c   \\\\     % this is a comment. The \\\\ tells LaTeX to start a new line. \n",
    "     x + y & = & z   \\\\\n",
    "     \\frac{1}{2} + \\frac{1}{3} & = & \\frac{5}{6} \\\\ % This is how you enter fractions. \n",
    "     E & = & mc^2  % \n",
    "\\end{eqnarray} \n",
    "\n",
    "Also, in-line math looks like this: $P_{diss} = I^2 R$"
   ]
  },
  {
   "cell_type": "markdown",
   "metadata": {},
   "source": [
    "*Write your equations in this markdown cell.  For further reference, here is a [markdown cheatsheet](https://github.com/adam-p/markdown-here/wiki/Markdown-Cheatsheet)*"
   ]
  },
  {
   "cell_type": "markdown",
   "metadata": {},
   "source": [
    "<b>One solution:</b>\n",
    "\\begin{eqnarray}\n",
    " I_{1}  & = &  I_{2}+ I_{3} ~~~~~~~~~(1)  \\\\\n",
    " I_1R_1 + I_{2}R_{2} + \\frac{Q}{C} &  = & V~~~~~~~~~~~~~~~~~(2) \\\\\n",
    " I_2R_2 + \\frac{Q}{C} & = & I_3R_3 ~~~~~~~~~~~~(3)\\\\\n",
    "  I_2 & = & \\frac{dQ}{dt}~~~~~~~~~~~~(4)\n",
    "\\end{eqnarray} "
   ]
  },
  {
   "cell_type": "markdown",
   "metadata": {},
   "source": [
    "<b>Part 2 (10 points):</b> In markdown below, define and analytically calculate your initial conditions as a function of $V$, $R_1$, $R_2$, and $R_3$. You are assuming that the capacitor is initially uncharged, and the battery\n",
    "is connected at $t=0$.  **Your initial conditions should consist of the initial values of $I_1$, $I_2$, $I_3$, and $Q$.**"
   ]
  },
  {
   "cell_type": "markdown",
   "metadata": {},
   "source": [
    "*Enter your initial conditions here in markdown.  Hint: You can look at the contents of other markdown cells to see how to get markdown to nicely render equations.  Or, refer to the cheatsheet link above if you want to experiment with something fancier.*\n",
    "\n",
    "\n",
    "<b> Solution:</b> At $t=0$, the capacitor acts like a wire, and the circuit looks like the resistor $R_1$ in series with the parallel combination of $R_2$ and $R_3$. Thus, $R_{eq}(t=0) = R_1 + R_2R_3/(R_2 + R_3)$. So our initial conditions are:\n",
    "\\begin{eqnarray}\n",
    "I_1 & = & V/R_{eq} \\\\\n",
    "I_2 & = & \\frac{V}{R_{eq}}\\frac{R_2}{R_2 + R_3}\\\\\n",
    "I_3 & = & \\frac{V}{R_{eq}}\\frac{R_3}{R_2 + R_3} \\\\\n",
    "Q & = & 0\n",
    "\\end{eqnarray}"
   ]
  },
  {
   "cell_type": "markdown",
   "metadata": {},
   "source": [
    "<b>Step 3 (15 points):</b> Solve the circuit. You will need to loop over timesteps, similar to what you did for the simple circuit in the previous assignment (look up the previous assignment!), and update the values of each unknown quantity at each step according to the equations you wrote down in Step 1. \n",
    "\n",
    "To do this, you'll need to choose some specific values for the components, so let's pick:\n",
    "* $V = 10$ V\n",
    "* $R_1 = 10~\\Omega$\n",
    "* $R_2 = 20~\\Omega$\n",
    "* $R_3 = 15~\\Omega$\n",
    "* $C = 1.0~\\mu$F\n",
    "\n",
    "Full credit for making the following plots:\n",
    "\n",
    "(1) $I_1$ vs. time, $I_2$ vs. time, and $I_3$ vs. time\n",
    "\n",
    "(2) $V_{\\mathrm{Cap}}$ vs. time"
   ]
  },
  {
   "cell_type": "markdown",
   "metadata": {},
   "source": [
    "* First, you need to define your constants that set up the problem.  See above."
   ]
  },
  {
   "cell_type": "code",
   "execution_count": 4,
   "metadata": {},
   "outputs": [],
   "source": [
    "# Define constants here.\n",
    "V = 10\n",
    "R1 = 10\n",
    "R2 = 20\n",
    "R3 = 15\n",
    "C = 1e-6"
   ]
  },
  {
   "cell_type": "markdown",
   "metadata": {},
   "source": [
    "* Next, you need to set up constants that are relevant to your problem, such as your analytically calculated time constant for this circuit.    Based on the time constant, you can define your timesteps."
   ]
  },
  {
   "cell_type": "code",
   "execution_count": 5,
   "metadata": {},
   "outputs": [],
   "source": [
    "# Define time constant and steps\n",
    "\n",
    "RC = (R2 + R1*R3/(R1 + R3))*C # Time constant from solving\n",
    "dt = RC/100\n",
    "timesteps = np.arange(0, 5*RC, dt)  # 5 time constants should be enough to see the asymptotic behavior"
   ]
  },
  {
   "cell_type": "markdown",
   "metadata": {},
   "source": [
    "* Next, you will need to create placeholder arrays to fill with computed values at each timestep and the initial conditions based on your answer in **Part 1** .  Hint:  In the last homework you used np.zeros, and you will need $I_1(t)$, $I_2(t)$, $I_3(t)$, and $V_{Cap}(t)$ for the plots. "
   ]
  },
  {
   "cell_type": "code",
   "execution_count": 6,
   "metadata": {},
   "outputs": [],
   "source": [
    "#  Create your place holder arrays and initial conditions here.\n",
    "Qarray = np.zeros(timesteps.shape)\n",
    "I1array = np.zeros(timesteps.shape)\n",
    "I2array = np.zeros(timesteps.shape)\n",
    "I3array = np.zeros(timesteps.shape)\n",
    "\n",
    "Q = 0\n",
    "Req = R1 + R2*R3/(R2+R3)  # equivalent resistance at t=0\n",
    "I1 = V/Req\n",
    "I2 = I1*R3/(R2+R3)\n",
    "I3 = I1*R2/(R2+R3)"
   ]
  },
  {
   "cell_type": "markdown",
   "metadata": {},
   "source": [
    "* Now, you will need to loop over saving values and updating values for each iteration of the timestep"
   ]
  },
  {
   "cell_type": "code",
   "execution_count": 7,
   "metadata": {},
   "outputs": [],
   "source": [
    "#  Write your loop here\n",
    "for i, timestep in enumerate(timesteps):\n",
    "    # First save the values at this time step:\n",
    "    I1array[i] = I1\n",
    "    I2array[i] = I2\n",
    "    I3array[i] = I3\n",
    "    Qarray[i] = Q\n",
    "    # Now update:\n",
    "    I3 = (I2*R2 + Q/C)/R3         # this is equation (3), rearranged to solve for I3\n",
    "    I2 = (V - I1*R1 - Q/C)/R2     # this is equation (2), rearranged to solve for I2\n",
    "    I1 = I2 + I3                  # this is equation (1) above\n",
    "    dQ = I2*dt                    # this is equation (4)\n",
    "    Q +=dQ                        # update Q with its new value"
   ]
  },
  {
   "cell_type": "markdown",
   "metadata": {},
   "source": [
    "* Make your plots below.  Try using zip to minimize lines of code and plot on three axes on the same figure for (1). "
   ]
  },
  {
   "cell_type": "code",
   "execution_count": 9,
   "metadata": {},
   "outputs": [
    {
     "data": {
      "image/png": "[encoded data removed]",
      "text/plain": [
       "<Figure size 576x432 with 1 Axes>"
      ]
     },
     "metadata": {},
     "output_type": "display_data"
    }
   ],
   "source": [
    "# Time evolution of current here\n",
    "fig, ax = plt.subplots(1, figsize=(8,6))\n",
    "ax.plot(timesteps/RC, I1array, color='b', label='$I_1$')\n",
    "ax.plot(timesteps/RC, I2array, color='r', label='$I_2$')\n",
    "ax.plot(timesteps/RC, I3array, color='g', label='$I_3$')\n",
    "ax.set_xlabel('Time in units of RC', fontsize=16)\n",
    "ax.legend(fontsize=16)\n",
    "ax.grid()"
   ]
  },
  {
   "cell_type": "markdown",
   "metadata": {},
   "source": [
    "<b>Commentary:</b> Notice that $I_2$ drops to zero as expected. A long time after the switch is closed, $R_1$ and $R_3$ are in series, so the currents in these resistors approach the same value."
   ]
  },
  {
   "cell_type": "code",
   "execution_count": 10,
   "metadata": {},
   "outputs": [
    {
     "data": {
      "image/png": "[encoded data removed]",
      "text/plain": [
       "<Figure size 576x432 with 1 Axes>"
      ]
     },
     "metadata": {},
     "output_type": "display_data"
    }
   ],
   "source": [
    "# Time evolution of the voltage across capacitor.\n",
    "fig, ax = plt.subplots(1, figsize=(8,6))\n",
    "ax.plot(timesteps/RC, Qarray/C, color='b')\n",
    "ax.set_xlabel('Time in units of RC', fontsize=16)\n",
    "ax.set_ylabel('Voltage on capacitor', fontsize=16)\n",
    "ax.grid()"
   ]
  },
  {
   "cell_type": "markdown",
   "metadata": {},
   "source": [
    "<b>Part 4 (10 points): Reflections and Sanity Checks</b>\n",
    "* First, calculate (analytically) the voltage on the capacitor after a long time. Does your numerical result agree with the calculation?  To what extent do they agree (one option is to show the percent error between the two)?"
   ]
  },
  {
   "cell_type": "markdown",
   "metadata": {},
   "source": [
    "<b> Example solution:</b>\n",
    "A long time after the switch is closed, current flows only through the series combination of $R_1$ and $R_3$. In this case, the current from the battery is $I = V/(R_1 + R_3)$, and the voltage drop across the capacitor is \n",
    "$$V_C = V - IR_1 = 10\\left( 1 - \\frac{R_1}{R_1 + R_3}\\right) = 6~V.$$ This agrees with the plot above."
   ]
  },
  {
   "cell_type": "markdown",
   "metadata": {},
   "source": [
    "* Next, pick any loop in the circuit. Is the loop rule satisfied at all times for this loop?  To what extent is the loop rule satisfied? You can plot the results of the loop rule, showing the summed voltage in the loop vs. time.  How might you this more accurate?\n"
   ]
  },
  {
   "cell_type": "markdown",
   "metadata": {},
   "source": [
    "For the loop rule, consider the left-hand loop that consists of the battery, $R_1$, $R_2$, and $C$. We need the voltage drops across the last three elements to add up to $V$. The voltages *should* add up to 10 V at all times. If we plot the sum, the loop rule isn't <u>exactly</u> satisfied, but it is good to about 0.5%, which seems reasonable given our time step.  Here's a plot:"
   ]
  },
  {
   "cell_type": "code",
   "execution_count": 12,
   "metadata": {},
   "outputs": [
    {
     "data": {
      "image/png": "[encoded data removed]",
      "text/plain": [
       "<Figure size 432x288 with 1 Axes>"
      ]
     },
     "metadata": {},
     "output_type": "display_data"
    }
   ],
   "source": [
    "# Plot of loop rule\n",
    "sum_of_drops = I1array*R1 + I2array*R2 + Qarray/C\n",
    "plt.plot(timesteps/RC, sum_of_drops)\n",
    "plt.grid()"
   ]
  },
  {
   "cell_type": "markdown",
   "metadata": {},
   "source": [
    "* What is the time constant for charging the capacitor as calculated by your program? Does it agree with the result you obtained analytically?  To what extent?"
   ]
  },
  {
   "cell_type": "markdown",
   "metadata": {},
   "source": [
    "If we look at the fraction, these agree very well, so we conclude that our program has correctly determined the time constant."
   ]
  },
  {
   "cell_type": "code",
   "execution_count": 13,
   "metadata": {},
   "outputs": [
    {
     "name": "stdout",
     "output_type": "stream",
     "text": [
      "Fraction charged: 0.637\n",
      "Fraction expected: 0.632\n"
     ]
    }
   ],
   "source": [
    "Q_final = Qarray[-1]\n",
    "Q_1RC = Qarray[100]\n",
    "fraction_charged = Q_1RC/Q_final\n",
    "fraction_expected = 1 - np.exp(-1)\n",
    "print('Fraction charged:' , round(fraction_charged,3))\n",
    "print('Fraction expected:' , round(fraction_expected,3))"
   ]
  },
  {
   "cell_type": "code",
   "execution_count": null,
   "metadata": {},
   "outputs": [],
   "source": []
  }
 ],
 "metadata": {
  "anaconda-cloud": {},
  "kernelspec": {
   "display_name": "Python 3",
   "language": "python",
   "name": "python3"
  },
  "language_info": {
   "codemirror_mode": {
    "name": "ipython",
    "version": 3
   },
   "file_extension": ".py",
   "mimetype": "text/x-python",
   "name": "python",
   "nbconvert_exporter": "python",
   "pygments_lexer": "ipython3",
   "version": "3.6.5"
  }
 },
 "nbformat": 4,
 "nbformat_minor": 1
}
